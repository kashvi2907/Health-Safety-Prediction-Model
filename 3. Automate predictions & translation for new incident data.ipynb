{
 "cells": [
  {
   "cell_type": "code",
   "execution_count": 2,
   "id": "ab104517-42a2-404d-b469-74b24135d96e",
   "metadata": {},
   "outputs": [],
   "source": [
    "import joblib\n",
    "\n",
    "# Load the trained components\n",
    "model = joblib.load('incident_predictor_model.pkl')\n",
    "preprocessor = joblib.load('incident_preprocessor.pkl')\n",
    "label_encoders = joblib.load('incident_label_encoders.pkl')"
   ]
  },
  {
   "cell_type": "code",
   "execution_count": 8,
   "id": "837e8873-10ba-4c72-b5c3-e3c9eff6884e",
   "metadata": {},
   "outputs": [
    {
     "data": {
      "text/html": [
       "<div>\n",
       "<style scoped>\n",
       "    .dataframe tbody tr th:only-of-type {\n",
       "        vertical-align: middle;\n",
       "    }\n",
       "\n",
       "    .dataframe tbody tr th {\n",
       "        vertical-align: top;\n",
       "    }\n",
       "\n",
       "    .dataframe thead th {\n",
       "        text-align: right;\n",
       "    }\n",
       "</style>\n",
       "<table border=\"1\" class=\"dataframe\">\n",
       "  <thead>\n",
       "    <tr style=\"text-align: right;\">\n",
       "      <th></th>\n",
       "      <th>CBU / BS</th>\n",
       "      <th>Reporting Site</th>\n",
       "      <th>Date Occured</th>\n",
       "      <th>Title</th>\n",
       "      <th>Sub Type</th>\n",
       "      <th>Description</th>\n",
       "      <th>Type of Injury</th>\n",
       "      <th>Kind of event hazard</th>\n",
       "      <th>Actions taken</th>\n",
       "    </tr>\n",
       "  </thead>\n",
       "  <tbody>\n",
       "    <tr>\n",
       "      <th>0</th>\n",
       "      <td>CBU MOROCCO</td>\n",
       "      <td>CBU MOROCCO | MAR - CASABLANCA | SAL</td>\n",
       "      <td>2019-12-27</td>\n",
       "      <td>27-12-2019 / LTA (Lost Time Accident) / MAR - ...</td>\n",
       "      <td>LTA (Lost Time Accident)</td>\n",
       "      <td>Dans une intersection, en voulant éviter un cy...</td>\n",
       "      <td>-</td>\n",
       "      <td>Vehicle - 2 or 3 wheelers accident</td>\n",
       "      <td>Alerte du LD Etablissement d’un PV de constatP...</td>\n",
       "    </tr>\n",
       "    <tr>\n",
       "      <th>1</th>\n",
       "      <td>CBU MOROCCO</td>\n",
       "      <td>CBU MOROCCO | MAR - KENITRA 2 | FAR</td>\n",
       "      <td>2019-12-24</td>\n",
       "      <td>24-12-2019 / LTA (Lost Time Accident) / MAR - ...</td>\n",
       "      <td>LTA (Lost Time Accident)</td>\n",
       "      <td>While treating a sick cow on the ground. The c...</td>\n",
       "      <td>-</td>\n",
       "      <td>Falling objects</td>\n",
       "      <td>We asked for the presence of the farm's nurse ...</td>\n",
       "    </tr>\n",
       "    <tr>\n",
       "      <th>2</th>\n",
       "      <td>CBU INDONESIA</td>\n",
       "      <td>CBU INDONESIA | IDN - BOGOR 5 | FAC</td>\n",
       "      <td>2019-12-22</td>\n",
       "      <td>22-12-2019 / NLTA - RWC (Non lost time acciden...</td>\n",
       "      <td>NLTA - RWC (Non lost time accident, Restricted...</td>\n",
       "      <td>saat sebelum menyapu merapihkan botol ke lori,...</td>\n",
       "      <td>-</td>\n",
       "      <td>Hit by a vehicle</td>\n",
       "      <td>ya … jari tangan dijahit</td>\n",
       "    </tr>\n",
       "    <tr>\n",
       "      <th>3</th>\n",
       "      <td>CBU TURKIYE, CENTRAL ASIA AND CAUCASUS</td>\n",
       "      <td>CBU TURKIYE, CENTRAL ASIA AND CAUCASUS | TUR -...</td>\n",
       "      <td>2019-12-20</td>\n",
       "      <td>20-12-2019 / NLTA - MTC (Non lost time acciden...</td>\n",
       "      <td>NLTA - MTC (Non lost time accident, Medical tr...</td>\n",
       "      <td>Maintanence technician took Aciplusfoam chemic...</td>\n",
       "      <td>-</td>\n",
       "      <td>Thermal (direct or fluid projection) hazards</td>\n",
       "      <td>No Data Imported</td>\n",
       "    </tr>\n",
       "    <tr>\n",
       "      <th>4</th>\n",
       "      <td>CBU TURKIYE, CENTRAL ASIA AND CAUCASUS</td>\n",
       "      <td>CBU TURKIYE, CENTRAL ASIA AND CAUCASUS | TUR -...</td>\n",
       "      <td>2019-12-20</td>\n",
       "      <td>20-12-2019 / LTA (Lost Time Accident) / TUR - ...</td>\n",
       "      <td>LTA (Lost Time Accident)</td>\n",
       "      <td>HOD operator intervened jammed bottles at cap ...</td>\n",
       "      <td>-</td>\n",
       "      <td>Falling objects</td>\n",
       "      <td>No Data Imported</td>\n",
       "    </tr>\n",
       "  </tbody>\n",
       "</table>\n",
       "</div>"
      ],
      "text/plain": [
       "                                 CBU / BS  \\\n",
       "0                             CBU MOROCCO   \n",
       "1                             CBU MOROCCO   \n",
       "2                           CBU INDONESIA   \n",
       "3  CBU TURKIYE, CENTRAL ASIA AND CAUCASUS   \n",
       "4  CBU TURKIYE, CENTRAL ASIA AND CAUCASUS   \n",
       "\n",
       "                                      Reporting Site Date Occured  \\\n",
       "0               CBU MOROCCO | MAR - CASABLANCA | SAL   2019-12-27   \n",
       "1                CBU MOROCCO | MAR - KENITRA 2 | FAR   2019-12-24   \n",
       "2                CBU INDONESIA | IDN - BOGOR 5 | FAC   2019-12-22   \n",
       "3  CBU TURKIYE, CENTRAL ASIA AND CAUCASUS | TUR -...   2019-12-20   \n",
       "4  CBU TURKIYE, CENTRAL ASIA AND CAUCASUS | TUR -...   2019-12-20   \n",
       "\n",
       "                                               Title  \\\n",
       "0  27-12-2019 / LTA (Lost Time Accident) / MAR - ...   \n",
       "1  24-12-2019 / LTA (Lost Time Accident) / MAR - ...   \n",
       "2  22-12-2019 / NLTA - RWC (Non lost time acciden...   \n",
       "3  20-12-2019 / NLTA - MTC (Non lost time acciden...   \n",
       "4  20-12-2019 / LTA (Lost Time Accident) / TUR - ...   \n",
       "\n",
       "                                            Sub Type  \\\n",
       "0                           LTA (Lost Time Accident)   \n",
       "1                           LTA (Lost Time Accident)   \n",
       "2  NLTA - RWC (Non lost time accident, Restricted...   \n",
       "3  NLTA - MTC (Non lost time accident, Medical tr...   \n",
       "4                           LTA (Lost Time Accident)   \n",
       "\n",
       "                                         Description Type of Injury  \\\n",
       "0  Dans une intersection, en voulant éviter un cy...              -   \n",
       "1  While treating a sick cow on the ground. The c...              -   \n",
       "2  saat sebelum menyapu merapihkan botol ke lori,...              -   \n",
       "3  Maintanence technician took Aciplusfoam chemic...              -   \n",
       "4  HOD operator intervened jammed bottles at cap ...              -   \n",
       "\n",
       "                           Kind of event hazard  \\\n",
       "0            Vehicle - 2 or 3 wheelers accident   \n",
       "1                               Falling objects   \n",
       "2                              Hit by a vehicle   \n",
       "3  Thermal (direct or fluid projection) hazards   \n",
       "4                               Falling objects   \n",
       "\n",
       "                                       Actions taken  \n",
       "0  Alerte du LD Etablissement d’un PV de constatP...  \n",
       "1  We asked for the presence of the farm's nurse ...  \n",
       "2                           ya … jari tangan dijahit  \n",
       "3                                   No Data Imported  \n",
       "4                                   No Data Imported  "
      ]
     },
     "execution_count": 8,
     "metadata": {},
     "output_type": "execute_result"
    }
   ],
   "source": [
    "import pandas as pd\n",
    "\n",
    "df_new = pd.read_excel(\"2019 Incident data.xlsx\")\n",
    "\n",
    "df_new.head()"
   ]
  },
  {
   "cell_type": "code",
   "execution_count": 14,
   "id": "7924a8e3-cb06-4bd9-84d1-0c2e94771f5a",
   "metadata": {},
   "outputs": [
    {
     "name": "stdout",
     "output_type": "stream",
     "text": [
      "🔤 Translating column: 'Title' (skipping English rows)\n"
     ]
    },
    {
     "data": {
      "application/vnd.jupyter.widget-view+json": {
       "model_id": "a967f73463994266a887266d0ca334cb",
       "version_major": 2,
       "version_minor": 0
      },
      "text/plain": [
       "Translating Title:   0%|          | 0/146 [00:00<?, ?it/s]"
      ]
     },
     "metadata": {},
     "output_type": "display_data"
    },
    {
     "name": "stdout",
     "output_type": "stream",
     "text": [
      "✅ Done translating 'Title'. New column: 'Title_EN'\n",
      "🔤 Translating column: 'Description' (skipping English rows)\n"
     ]
    },
    {
     "data": {
      "application/vnd.jupyter.widget-view+json": {
       "model_id": "86e75ecdcc03443ca573b9e65af360bc",
       "version_major": 2,
       "version_minor": 0
      },
      "text/plain": [
       "Translating Description:   0%|          | 0/146 [00:00<?, ?it/s]"
      ]
     },
     "metadata": {},
     "output_type": "display_data"
    },
    {
     "name": "stdout",
     "output_type": "stream",
     "text": [
      "✅ Done translating 'Description'. New column: 'Description_EN'\n",
      "🔤 Translating column: 'Actions taken' (skipping English rows)\n"
     ]
    },
    {
     "data": {
      "application/vnd.jupyter.widget-view+json": {
       "model_id": "f0929098572c48728298b5fefab09306",
       "version_major": 2,
       "version_minor": 0
      },
      "text/plain": [
       "Translating Actions taken:   0%|          | 0/146 [00:00<?, ?it/s]"
      ]
     },
     "metadata": {},
     "output_type": "display_data"
    },
    {
     "name": "stdout",
     "output_type": "stream",
     "text": [
      "⚠️ Error with text: -\n",
      "No features in text.\n",
      "✅ Done translating 'Actions taken'. New column: 'Actions taken_EN'\n",
      "💾 All translations complete! Saved to: translated_file_2019.xlsx\n"
     ]
    }
   ],
   "source": [
    "from deep_translator import GoogleTranslator\n",
    "from langdetect import detect\n",
    "from tqdm.notebook import tqdm\n",
    "\n",
    "# Columns to translate\n",
    "columns_to_translate = ['Title', 'Description', 'Actions taken']\n",
    "\n",
    "# Translate each column\n",
    "for col in columns_to_translate:\n",
    "    print(f\"🔤 Translating column: '{col}' (skipping English rows)\")\n",
    "    translated = []\n",
    "\n",
    "    for text in tqdm(df_new[col], desc=f\"Translating {col}\"):\n",
    "        if pd.isnull(text):\n",
    "            translated.append(text)\n",
    "        else:\n",
    "            try:\n",
    "                lang = detect(str(text))\n",
    "                if lang == 'en':\n",
    "                    translated.append(text)  # Skip English\n",
    "                else:\n",
    "                    translated_text = GoogleTranslator(source='auto', target='en').translate(str(text))\n",
    "                    translated.append(translated_text)\n",
    "            except Exception as e:\n",
    "                print(f\"⚠️ Error with text: {text}\\n{e}\")\n",
    "                translated.append(text)\n",
    "\n",
    "    df_new[col + '_EN'] = translated\n",
    "    print(f\"✅ Done translating '{col}'. New column: '{col}_EN'\")\n",
    "\n",
    "# Save the translated Excel file\n",
    "output_file = 'translated_file_2019.xlsx'\n",
    "df_new.to_excel(output_file, index=False)\n",
    "print(f\"💾 All translations complete! Saved to: {output_file}\")"
   ]
  },
  {
   "cell_type": "code",
   "execution_count": 16,
   "id": "4fc445a3-4684-4620-baad-0fa3b43db86d",
   "metadata": {},
   "outputs": [],
   "source": [
    "# Rebuild full_text and time features\n",
    "df_new['full_text'] = (\n",
    "    df_new['Title_EN'].fillna('') + ' ' +\n",
    "    df_new['Description_EN'].fillna('') + ' ' +\n",
    "    df_new['Actions taken_EN'].fillna('')\n",
    ")\n",
    "\n",
    "df_new['Date Occured'] = pd.to_datetime(df_new['Date Occured'], errors='coerce')\n",
    "df_new['month'] = df_new['Date Occured'].dt.month\n",
    "df_new['weekday'] = df_new['Date Occured'].dt.weekday\n",
    "\n",
    "# Prepare inputs\n",
    "X_new = df_new[['Reporting Site', 'Sub Type', 'month', 'weekday', 'full_text']]\n",
    "X_new_transformed = preprocessor.transform(X_new)\n",
    "\n",
    "# Predict\n",
    "y_new_pred = model.predict(X_new_transformed)"
   ]
  },
  {
   "cell_type": "code",
   "execution_count": 18,
   "id": "054be3cb-90ad-4d03-ac95-e11a451fdb38",
   "metadata": {},
   "outputs": [],
   "source": [
    "# Convert predictions to DataFrame\n",
    "y_new_df = pd.DataFrame(y_new_pred, columns=['Type of Injury', 'Kind of event hazard'])\n",
    "\n",
    "# Decode labels\n",
    "for col in y_new_df.columns:\n",
    "    y_new_df[col] = label_encoders[col].inverse_transform(y_new_df[col])\n",
    "\n",
    "# Combine with original\n",
    "df_result = pd.concat([df_new.reset_index(drop=True), y_new_df], axis=1)"
   ]
  },
  {
   "cell_type": "code",
   "execution_count": 20,
   "id": "c31f54ef-b036-44fc-b02a-2aabd048f9bf",
   "metadata": {},
   "outputs": [
    {
     "name": "stdout",
     "output_type": "stream",
     "text": [
      "✅ Saved: Incident Predictions.xlsx\n"
     ]
    }
   ],
   "source": [
    "df_result.to_excel(\"Incident Predictions.xlsx\", index=False)\n",
    "print(\"✅ Saved: Incident Predictions.xlsx\")"
   ]
  },
  {
   "cell_type": "code",
   "execution_count": 13,
   "id": "f68b00f5-ecf5-4077-b5d0-509c82b80f30",
   "metadata": {},
   "outputs": [
    {
     "name": "stdout",
     "output_type": "stream",
     "text": [
      "🔤 Translating column: 'Title' (skipping English rows)\n"
     ]
    },
    {
     "data": {
      "application/vnd.jupyter.widget-view+json": {
       "model_id": "bf2278d2b3ac488eb5e22a2d24c2ef94",
       "version_major": 2,
       "version_minor": 0
      },
      "text/plain": [
       "Translating Title:   0%|          | 0/146 [00:00<?, ?it/s]"
      ]
     },
     "metadata": {},
     "output_type": "display_data"
    },
    {
     "name": "stdout",
     "output_type": "stream",
     "text": [
      "✅ Done translating 'Title'. New column: 'Title_EN'\n",
      "🔤 Translating column: 'Description' (skipping English rows)\n"
     ]
    },
    {
     "data": {
      "application/vnd.jupyter.widget-view+json": {
       "model_id": "e3c5a3346b234d9bbf1b5dfb10c834eb",
       "version_major": 2,
       "version_minor": 0
      },
      "text/plain": [
       "Translating Description:   0%|          | 0/146 [00:00<?, ?it/s]"
      ]
     },
     "metadata": {},
     "output_type": "display_data"
    },
    {
     "name": "stdout",
     "output_type": "stream",
     "text": [
      "✅ Done translating 'Description'. New column: 'Description_EN'\n",
      "🔤 Translating column: 'Actions taken' (skipping English rows)\n"
     ]
    },
    {
     "data": {
      "application/vnd.jupyter.widget-view+json": {
       "model_id": "98da06628d7443d593e0cd033f0e0cad",
       "version_major": 2,
       "version_minor": 0
      },
      "text/plain": [
       "Translating Actions taken:   0%|          | 0/146 [00:00<?, ?it/s]"
      ]
     },
     "metadata": {},
     "output_type": "display_data"
    },
    {
     "name": "stdout",
     "output_type": "stream",
     "text": [
      "⚠️ Error with text: -\n",
      "No features in text.\n",
      "✅ Done translating 'Actions taken'. New column: 'Actions taken_EN'\n",
      "✅ Saved: Incident Predictions 2.xlsx\n"
     ]
    }
   ],
   "source": [
    "from deep_translator import GoogleTranslator\n",
    "from langdetect import detect\n",
    "from tqdm.notebook import tqdm\n",
    "\n",
    "# Load model components\n",
    "model = joblib.load('incident_predictor_model.pkl')\n",
    "preprocessor = joblib.load('incident_preprocessor.pkl')\n",
    "label_encoders = joblib.load('incident_label_encoders.pkl')\n",
    "\n",
    "df_automation_step = pd.read_excel('2019 Incident data.xlsx')\n",
    "\n",
    "# Columns to translate\n",
    "columns_to_translate = ['Title', 'Description', 'Actions taken']\n",
    "\n",
    "# Translate each column\n",
    "for col in columns_to_translate:\n",
    "    print(f\"🔤 Translating column: '{col}' (skipping English rows)\")\n",
    "    translated = []\n",
    "\n",
    "    for text in tqdm(df_automation_step[col], desc=f\"Translating {col}\"):\n",
    "        if pd.isnull(text):\n",
    "            translated.append(text)\n",
    "        else:\n",
    "            try:\n",
    "                lang = detect(str(text))\n",
    "                if lang == 'en':\n",
    "                    translated.append(text)  # Skip English\n",
    "                else:\n",
    "                    translated_text = GoogleTranslator(source='auto', target='en').translate(str(text))\n",
    "                    translated.append(translated_text)\n",
    "            except Exception as e:\n",
    "                print(f\"⚠️ Error with text: {text}\\n{e}\")\n",
    "                translated.append(text)\n",
    "\n",
    "    df_automation_step[col + '_EN'] = translated\n",
    "    print(f\"✅ Done translating '{col}'. New column: '{col}_EN'\")\n",
    "\n",
    "# Create NLP column\n",
    "df_automation_step['full_text'] = (\n",
    "    df_automation_step['Title_EN'].fillna('') + ' ' +\n",
    "    df_automation_step['Description_EN'].fillna('') + ' ' +\n",
    "    df_automation_step['Actions taken_EN'].fillna('')\n",
    ")\n",
    "\n",
    "# Time features\n",
    "df_automation_step['Date Occured'] = pd.to_datetime(df_automation_step['Date Occured'], errors='coerce')\n",
    "df_automation_step['month'] = df_automation_step['Date Occured'].dt.month\n",
    "df_automation_step['weekday'] = df_automation_step['Date Occured'].dt.weekday\n",
    "\n",
    "# Prepare features\n",
    "X_new = df_automation_step[['Reporting Site', 'Sub Type', 'month', 'weekday', 'full_text']]\n",
    "X_new_transformed = preprocessor.transform(X_new)\n",
    "\n",
    "# Predict\n",
    "y_pred = model.predict(X_new_transformed)\n",
    "y_pred_df = pd.DataFrame(y_pred, columns=['Type of Injury', 'Kind of event hazard'])\n",
    "\n",
    "# Decode\n",
    "for col in y_pred_df.columns:\n",
    "    y_pred_df[col] = label_encoders[col].inverse_transform(y_pred_df[col])\n",
    "\n",
    "# Merge predictions\n",
    "df_result = pd.concat([df_automation_step.reset_index(drop=True), y_pred_df], axis=1)\n",
    "\n",
    "# Save output\n",
    "df_result.to_excel(\"Incident Predictions 2.xlsx\", index=False)\n",
    "print(\"✅ Saved: Incident Predictions 2.xlsx\")"
   ]
  },
  {
   "cell_type": "code",
   "execution_count": 33,
   "id": "516d91f2-99a2-46f8-8316-839a1f48b85e",
   "metadata": {},
   "outputs": [
    {
     "name": "stdout",
     "output_type": "stream",
     "text": [
      "Data loaded from the .pkl file:\n"
     ]
    },
    {
     "data": {
      "text/plain": [
       "array(['-', 'Abrasion/Irritation', 'Amputation',\n",
       "       'Asphyxiation, suffocation', 'Bruising / Contusion',\n",
       "       'Burn (2nd, 3rd, 4th degree)', 'Concussion',\n",
       "       'Contact / Exposure (chemicals)', 'Crush',\n",
       "       'Cut / Laceration / Wound', 'Dislocation',\n",
       "       'Foreign body (ingressed)', 'Fractures', 'Inflammation',\n",
       "       'Irritation', 'Loss of consciousness', 'Multi Injury',\n",
       "       'Musculoskeletal Disorder', 'Other', 'Pain',\n",
       "       'Scald / Burn (1st degree)', 'Shock', 'Strain / Sprain'],\n",
       "      dtype=object)"
      ]
     },
     "metadata": {},
     "output_type": "display_data"
    }
   ],
   "source": [
    "import pickle\n",
    "\n",
    "file_path = 'incident_label_encoders.pkl'\n",
    "\n",
    "# Load and print the data\n",
    "with open(file_path, 'rb') as f:\n",
    "    data = pickle.load(f)\n",
    "\n",
    "# Display the loaded data\n",
    "print(\"Data loaded from the .pkl file:\")\n",
    "display(data)"
   ]
  },
  {
   "cell_type": "code",
   "execution_count": 35,
   "id": "d5370def-df4d-4d9b-af16-72d5868b3972",
   "metadata": {},
   "outputs": [
    {
     "name": "stdout",
     "output_type": "stream",
     "text": [
      "Decoded file saved successfully.\n"
     ]
    }
   ],
   "source": [
    "import joblib\n",
    "import pandas as pd\n",
    "\n",
    "# Load predicted data (with numeric predictions)\n",
    "df = pd.read_excel(\"Incident Predictions 2.xlsx\")\n",
    "\n",
    "# Load saved label encoders\n",
    "label_encoders = joblib.load(\"incident_label_encoders.pkl\")\n",
    "\n",
    "# Ensure prediction columns are integers\n",
    "df['Predicted Kind of event hazard'] = df['Predicted Kind of event hazard'].astype(int)\n",
    "df['Predicted Type of Injury'] = df['Predicted Type of Injury'].astype(int)\n",
    "\n",
    "# Decode predicted hazard and injury\n",
    "df['Predicted Kind of event hazard'] = label_encoders['Kind of event hazard'].inverse_transform(\n",
    "    df['Predicted Kind of event hazard']\n",
    ")\n",
    "df['Predicted Type of Injury'] = label_encoders['Type of Injury'].inverse_transform(\n",
    "    df['Predicted Type of Injury']\n",
    ")\n",
    "\n",
    "# Save the decoded predictions\n",
    "df.to_excel(\"Incident Predictions 2_decoded.xlsx\", index=False)\n",
    "print(\"Decoded file saved successfully.\")"
   ]
  }
 ],
 "metadata": {
  "kernelspec": {
   "display_name": "Python [conda env:base] *",
   "language": "python",
   "name": "conda-base-py"
  },
  "language_info": {
   "codemirror_mode": {
    "name": "ipython",
    "version": 3
   },
   "file_extension": ".py",
   "mimetype": "text/x-python",
   "name": "python",
   "nbconvert_exporter": "python",
   "pygments_lexer": "ipython3",
   "version": "3.11.5"
  }
 },
 "nbformat": 4,
 "nbformat_minor": 5
}
