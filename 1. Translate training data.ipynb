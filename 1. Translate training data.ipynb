{
 "cells": [
  {
   "cell_type": "code",
   "execution_count": 1,
   "id": "b87bd150-ed8d-4078-b18b-02b09809f13c",
   "metadata": {},
   "outputs": [
    {
     "data": {
      "text/html": [
       "<div>\n",
       "<style scoped>\n",
       "    .dataframe tbody tr th:only-of-type {\n",
       "        vertical-align: middle;\n",
       "    }\n",
       "\n",
       "    .dataframe tbody tr th {\n",
       "        vertical-align: top;\n",
       "    }\n",
       "\n",
       "    .dataframe thead th {\n",
       "        text-align: right;\n",
       "    }\n",
       "</style>\n",
       "<table border=\"1\" class=\"dataframe\">\n",
       "  <thead>\n",
       "    <tr style=\"text-align: right;\">\n",
       "      <th></th>\n",
       "      <th>CBU / BS</th>\n",
       "      <th>Reporting Site</th>\n",
       "      <th>Date Occured</th>\n",
       "      <th>Title</th>\n",
       "      <th>Description</th>\n",
       "      <th>Sub Type</th>\n",
       "      <th>Type of Injury</th>\n",
       "      <th>Kind of event hazard</th>\n",
       "      <th>Actions taken</th>\n",
       "    </tr>\n",
       "  </thead>\n",
       "  <tbody>\n",
       "    <tr>\n",
       "      <th>0</th>\n",
       "      <td>CBU INDONESIA</td>\n",
       "      <td>CBU INDONESIA | IDN - SUMATERA UTARA | FAC</td>\n",
       "      <td>2025-04-30</td>\n",
       "      <td>Jari tengah tangan kiri terluka</td>\n",
       "      <td>Pada Hari Rabu  30 April 2025 sdr Eri Ismardi ...</td>\n",
       "      <td>NLTA - MTC (Non lost time accident, Medical tr...</td>\n",
       "      <td>Cut / Laceration / Wound</td>\n",
       "      <td>-</td>\n",
       "      <td>1. Korban mendapatkan pertolongan medis dari K...</td>\n",
       "    </tr>\n",
       "    <tr>\n",
       "      <th>1</th>\n",
       "      <td>CBU INDONESIA</td>\n",
       "      <td>CBU INDONESIA | IDN - WONOSOBO | FAC</td>\n",
       "      <td>2025-04-30</td>\n",
       "      <td>Luka terkena pecahan kaca</td>\n",
       "      <td>Korban segera menuju lokasi panel konveyor. Pa...</td>\n",
       "      <td>NLTA - MTC (Non lost time accident, Medical tr...</td>\n",
       "      <td>Cut / Laceration / Wound</td>\n",
       "      <td>Crushing hazard</td>\n",
       "      <td>Mengamankan kornan dan memberikan pertolongan ...</td>\n",
       "    </tr>\n",
       "    <tr>\n",
       "      <th>2</th>\n",
       "      <td>CBU EGYPT</td>\n",
       "      <td>CBU EGYPT | EGY - EL OBOUR CITY | SAL</td>\n",
       "      <td>2025-03-25</td>\n",
       "      <td>LTC</td>\n",
       "      <td>A Sales Rep had a cut injury in the middle fin...</td>\n",
       "      <td>LTA (Lost Time Accident)</td>\n",
       "      <td>Cut / Laceration / Wound</td>\n",
       "      <td>Cutting, puncturing hazard</td>\n",
       "      <td>The Sales Rep was transported immediately to t...</td>\n",
       "    </tr>\n",
       "    <tr>\n",
       "      <th>3</th>\n",
       "      <td>CBU INDONESIA</td>\n",
       "      <td>CBU INDONESIA | IDN - BALI 3 | FAC</td>\n",
       "      <td>2025-03-21</td>\n",
       "      <td>Terpeleset</td>\n",
       "      <td>Pada Jumat  tanggal 21 Maret jam 09.00 wita ,P...</td>\n",
       "      <td>NLTA - MTC (Non lost time accident, Medical tr...</td>\n",
       "      <td>Pain</td>\n",
       "      <td>Slip, trip, same-level fall or fixed stairs/steps</td>\n",
       "      <td>Korban dipapah dibawa ke poliklinik karena kor...</td>\n",
       "    </tr>\n",
       "    <tr>\n",
       "      <th>4</th>\n",
       "      <td>AFRICA FANMILK</td>\n",
       "      <td>AFRICA FANMILK | NGA - IBADAN 2 | FAC</td>\n",
       "      <td>2025-03-20</td>\n",
       "      <td>Deep Laceration</td>\n",
       "      <td>A personnel had a deep laceration</td>\n",
       "      <td>NLTA - RWC (Non lost time accident, Restricted...</td>\n",
       "      <td>Cut / Laceration / Wound</td>\n",
       "      <td>Cutting, puncturing hazard</td>\n",
       "      <td>He was administered first aid treatment before...</td>\n",
       "    </tr>\n",
       "  </tbody>\n",
       "</table>\n",
       "</div>"
      ],
      "text/plain": [
       "         CBU / BS                              Reporting Site Date Occured  \\\n",
       "0   CBU INDONESIA  CBU INDONESIA | IDN - SUMATERA UTARA | FAC   2025-04-30   \n",
       "1   CBU INDONESIA        CBU INDONESIA | IDN - WONOSOBO | FAC   2025-04-30   \n",
       "2       CBU EGYPT       CBU EGYPT | EGY - EL OBOUR CITY | SAL   2025-03-25   \n",
       "3   CBU INDONESIA          CBU INDONESIA | IDN - BALI 3 | FAC   2025-03-21   \n",
       "4  AFRICA FANMILK       AFRICA FANMILK | NGA - IBADAN 2 | FAC   2025-03-20   \n",
       "\n",
       "                             Title  \\\n",
       "0  Jari tengah tangan kiri terluka   \n",
       "1        Luka terkena pecahan kaca   \n",
       "2                              LTC   \n",
       "3                       Terpeleset   \n",
       "4                  Deep Laceration   \n",
       "\n",
       "                                         Description  \\\n",
       "0  Pada Hari Rabu  30 April 2025 sdr Eri Ismardi ...   \n",
       "1  Korban segera menuju lokasi panel konveyor. Pa...   \n",
       "2  A Sales Rep had a cut injury in the middle fin...   \n",
       "3  Pada Jumat  tanggal 21 Maret jam 09.00 wita ,P...   \n",
       "4                  A personnel had a deep laceration   \n",
       "\n",
       "                                            Sub Type  \\\n",
       "0  NLTA - MTC (Non lost time accident, Medical tr...   \n",
       "1  NLTA - MTC (Non lost time accident, Medical tr...   \n",
       "2                           LTA (Lost Time Accident)   \n",
       "3  NLTA - MTC (Non lost time accident, Medical tr...   \n",
       "4  NLTA - RWC (Non lost time accident, Restricted...   \n",
       "\n",
       "             Type of Injury  \\\n",
       "0  Cut / Laceration / Wound   \n",
       "1  Cut / Laceration / Wound   \n",
       "2  Cut / Laceration / Wound   \n",
       "3                      Pain   \n",
       "4  Cut / Laceration / Wound   \n",
       "\n",
       "                                Kind of event hazard  \\\n",
       "0                                                  -   \n",
       "1                                    Crushing hazard   \n",
       "2                         Cutting, puncturing hazard   \n",
       "3  Slip, trip, same-level fall or fixed stairs/steps   \n",
       "4                         Cutting, puncturing hazard   \n",
       "\n",
       "                                       Actions taken  \n",
       "0  1. Korban mendapatkan pertolongan medis dari K...  \n",
       "1  Mengamankan kornan dan memberikan pertolongan ...  \n",
       "2  The Sales Rep was transported immediately to t...  \n",
       "3  Korban dipapah dibawa ke poliklinik karena kor...  \n",
       "4  He was administered first aid treatment before...  "
      ]
     },
     "execution_count": 1,
     "metadata": {},
     "output_type": "execute_result"
    }
   ],
   "source": [
    "import pandas as pd\n",
    "\n",
    "df = pd.read_excel('2020 - 2025 Incident Data.xlsx')\n",
    "\n",
    "df.head()"
   ]
  },
  {
   "cell_type": "code",
   "execution_count": 3,
   "id": "795f7d29-17c4-4fa2-8da2-f2e9f9afb908",
   "metadata": {},
   "outputs": [
    {
     "name": "stdout",
     "output_type": "stream",
     "text": [
      "Collecting langdetect\n",
      "  Downloading langdetect-1.0.9.tar.gz (981 kB)\n",
      "\u001b[2K     \u001b[90m━━━━━━━━━━━━━━━━━━━━━━━━━━━━━━━━━━━━━━━\u001b[0m \u001b[32m981.5/981.5 kB\u001b[0m \u001b[31m9.7 MB/s\u001b[0m eta \u001b[36m0:00:00\u001b[0m00:01\u001b[0m00:01\u001b[0m\n",
      "  Preparing metadata (setup.py) ... \u001b[?25ldone\n",
      "\u001b[?25hRequirement already satisfied: six in /Users/kashvikumar/anaconda3/lib/python3.11/site-packages (from langdetect) (1.16.0)\n",
      "Building wheels for collected packages: langdetect\n",
      "  Building wheel for langdetect (setup.py) ... \u001b[done\n",
      "\u001b[?25h  Created wheel for langdetect: filename=langdetect-1.0.9-py3-none-any.whl size=993225 sha256=7662b733e47e163704a0a285aff1cedd9c3f472b2ae3c19dbce18c0ec0976809\n",
      "  Stored in directory: /Users/kashvikumar/Library/Caches/pip/wheels/0a/f2/b2/e5ca405801e05eb7c8ed5b3b4bcf1fcabcd6272c167640072e\n",
      "Successfully built langdetect\n",
      "Installing collected packages: langdetect\n",
      "Successfully installed langdetect-1.0.9\n"
     ]
    }
   ],
   "source": [
    "!pip install langdetect"
   ]
  },
  {
   "cell_type": "code",
   "execution_count": 5,
   "id": "7a81cc6e-05b3-4b65-ba03-c64e18e67fa1",
   "metadata": {},
   "outputs": [
    {
     "name": "stdout",
     "output_type": "stream",
     "text": [
      "🔤 Translating column: 'Title' (skipping English rows)\n"
     ]
    },
    {
     "data": {
      "application/vnd.jupyter.widget-view+json": {
       "model_id": "b0b2304222a74a3a9030e293784e9327",
       "version_major": 2,
       "version_minor": 0
      },
      "text/plain": [
       "Translating Title:   0%|          | 0/310 [00:00<?, ?it/s]"
      ]
     },
     "metadata": {},
     "output_type": "display_data"
    },
    {
     "name": "stdout",
     "output_type": "stream",
     "text": [
      "✅ Done translating 'Title'. New column: 'Title_EN'\n",
      "🔤 Translating column: 'Description' (skipping English rows)\n"
     ]
    },
    {
     "data": {
      "application/vnd.jupyter.widget-view+json": {
       "model_id": "3cff33420fa3448b870d360ee755ac5f",
       "version_major": 2,
       "version_minor": 0
      },
      "text/plain": [
       "Translating Description:   0%|          | 0/310 [00:00<?, ?it/s]"
      ]
     },
     "metadata": {},
     "output_type": "display_data"
    },
    {
     "name": "stdout",
     "output_type": "stream",
     "text": [
      "✅ Done translating 'Description'. New column: 'Description_EN'\n",
      "🔤 Translating column: 'Actions taken' (skipping English rows)\n"
     ]
    },
    {
     "data": {
      "application/vnd.jupyter.widget-view+json": {
       "model_id": "4a3b392a66d745909e4a73a1ce56ebfa",
       "version_major": 2,
       "version_minor": 0
      },
      "text/plain": [
       "Translating Actions taken:   0%|          | 0/310 [00:00<?, ?it/s]"
      ]
     },
     "metadata": {},
     "output_type": "display_data"
    },
    {
     "name": "stdout",
     "output_type": "stream",
     "text": [
      "⚠️ Error with text: -\n",
      "No features in text.\n",
      "⚠️ Error with text: -\n",
      "No features in text.\n",
      "⚠️ Error with text: -\n",
      "No features in text.\n",
      "⚠️ Error with text: -\n",
      "No features in text.\n",
      "⚠️ Error with text: -\n",
      "No features in text.\n",
      "⚠️ Error with text: -\n",
      "No features in text.\n",
      "✅ Done translating 'Actions taken'. New column: 'Actions taken_EN'\n",
      "💾 All translations complete! Saved to: translated_file_2020to25.xlsx\n"
     ]
    }
   ],
   "source": [
    "from deep_translator import GoogleTranslator\n",
    "from langdetect import detect\n",
    "from tqdm.notebook import tqdm\n",
    "\n",
    "# Columns to translate\n",
    "columns_to_translate = ['Title', 'Description', 'Actions taken']\n",
    "\n",
    "# Translate each column\n",
    "for col in columns_to_translate:\n",
    "    print(f\"🔤 Translating column: '{col}' (skipping English rows)\")\n",
    "    translated = []\n",
    "\n",
    "    for text in tqdm(df[col], desc=f\"Translating {col}\"):\n",
    "        if pd.isnull(text):\n",
    "            translated.append(text)\n",
    "        else:\n",
    "            try:\n",
    "                lang = detect(str(text))\n",
    "                if lang == 'en':\n",
    "                    translated.append(text)  # Skip English\n",
    "                else:\n",
    "                    translated_text = GoogleTranslator(source='auto', target='en').translate(str(text))\n",
    "                    translated.append(translated_text)\n",
    "            except Exception as e:\n",
    "                print(f\"⚠️ Error with text: {text}\\n{e}\")\n",
    "                translated.append(text)\n",
    "\n",
    "    df[col + '_EN'] = translated\n",
    "    print(f\"✅ Done translating '{col}'. New column: '{col}_EN'\")\n",
    "\n",
    "# Save the translated Excel file\n",
    "output_file = 'translated_file_2020to25.xlsx'\n",
    "df.to_excel(output_file, index=False)\n",
    "print(f\"💾 All translations complete! Saved to: {output_file}\")"
   ]
  }
 ],
 "metadata": {
  "kernelspec": {
   "display_name": "Python [conda env:base] *",
   "language": "python",
   "name": "conda-base-py"
  },
  "language_info": {
   "codemirror_mode": {
    "name": "ipython",
    "version": 3
   },
   "file_extension": ".py",
   "mimetype": "text/x-python",
   "name": "python",
   "nbconvert_exporter": "python",
   "pygments_lexer": "ipython3",
   "version": "3.11.5"
  }
 },
 "nbformat": 4,
 "nbformat_minor": 5
}
